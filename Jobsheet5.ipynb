{
  "nbformat": 4,
  "nbformat_minor": 0,
  "metadata": {
    "colab": {
      "provenance": [],
      "authorship_tag": "ABX9TyPIeJPuni6jbxe+A09hcG6Z",
      "include_colab_link": true
    },
    "kernelspec": {
      "name": "python3",
      "display_name": "Python 3"
    },
    "language_info": {
      "name": "python"
    }
  },
  "cells": [
    {
      "cell_type": "markdown",
      "metadata": {
        "id": "view-in-github",
        "colab_type": "text"
      },
      "source": [
        "<a href=\"https://colab.research.google.com/github/Agtna/2025_PBO_TI-1B/blob/main/Jobsheet5.ipynb\" target=\"_parent\"><img src=\"https://colab.research.google.com/assets/colab-badge.svg\" alt=\"Open In Colab\"/></a>"
      ]
    },
    {
      "cell_type": "markdown",
      "source": [
        "#Jobsheet 5 : POLIMORFISME DAN MEMAHAMI OVERLOADING/OVERRIDING"
      ],
      "metadata": {
        "id": "NUDKH_EDXN5r"
      }
    },
    {
      "cell_type": "markdown",
      "source": [
        "##Praktikum 01: Polimorfisme dengan Inheritance dan Overriding"
      ],
      "metadata": {
        "id": "M_E11mkZiYWQ"
      }
    },
    {
      "cell_type": "code",
      "execution_count": null,
      "metadata": {
        "colab": {
          "base_uri": "https://localhost:8080/"
        },
        "id": "HweYwzMkiPSA",
        "outputId": "949d880b-3e30-4f6f-f870-292420afa100"
      },
      "outputs": [
        {
          "output_type": "stream",
          "name": "stdout",
          "text": [
            "\n",
            "AKsi Burung:\n",
            "--Aksi untuk Elang Jawa --\n",
            "Elang Jawa terbang tinggi melayang di angkasa\n",
            "Elang Jawa berteriak nyaring!\n",
            "---------------\n",
            "--Aksi untuk Pipit Gereja --\n",
            "Pipit Gereja terbang cepat di antara pepohonan.\n",
            "Pipit Gereja berkicau merdu: Cit cit!\n",
            "---------------\n",
            "--Aksi untuk Burung Misterius --\n",
            "Burung Misterius terbang dengan cara umum.\n",
            "Burung Misterius mengeluarkan suara burung.\n",
            "---------------\n"
          ]
        }
      ],
      "source": [
        "#Kelas Induk\n",
        "class Burung:\n",
        "  def __init__(self, nama):\n",
        "    self.nama = nama\n",
        "\n",
        "  def terbang(self):\n",
        "    print(f\"{self.nama} terbang dengan cara umum.\")\n",
        "\n",
        "  def bersuara(self):\n",
        "    print(f\"{self.nama} mengeluarkan suara burung.\")\n",
        "\n",
        "#Kelas Anak 1\n",
        "class Elang(Burung):\n",
        "  def __init__(self, nama, rentang_sayap):\n",
        "    super().__init__(nama)\n",
        "    self.rentang_sayap = rentang_sayap\n",
        "\n",
        "  #Override\n",
        "  def terbang(self):\n",
        "    print(f\"{self.nama} terbang tinggi melayang di angkasa\")\n",
        "\n",
        "  #Override\n",
        "  def bersuara(self):\n",
        "    print(f\"{self.nama} berteriak nyaring!\")\n",
        "\n",
        "#Kelas Anak 2\n",
        "class Pipit(Burung):\n",
        "  def __init__(self, nama, warna_bulu):\n",
        "    super().__init__(nama)\n",
        "    self.warna_bulu = warna_bulu\n",
        "\n",
        "  #Override\n",
        "  def terbang(self):\n",
        "    print(f\"{self.nama} terbang cepat di antara pepohonan.\")\n",
        "\n",
        "  #Override\n",
        "  def bersuara(self):\n",
        "    print(f\"{self.nama} berkicau merdu: Cit cit!\")\n",
        "\n",
        "#Fungsi yang memanfaatkan polimorfisme\n",
        "def demonstrasi_aksi_burung(daftar_burung):\n",
        "  print(\"\\nAKsi Burung:\")\n",
        "  for burung in daftar_burung:\n",
        "    print(f\"--Aksi untuk {burung.nama} --\")\n",
        "    #Panggilan metode yang sama, tapi perilaku berbeda tergantung objek\n",
        "    burung.terbang()\n",
        "    burung.bersuara()\n",
        "    print(\"-\" * 15)\n",
        "\n",
        "#---Kode Utama---\n",
        "if __name__ == \"__main__\":\n",
        "  elang_jawa    = Elang(\"Elang Jawa\", 1.5)\n",
        "  pipit_gereja  = Pipit(\"Pipit Gereja\", \"Coklat\")\n",
        "  burung_aneh   = Burung(\"Burung Misterius\") #Objek dari kelas induk\n",
        "\n",
        "  koleksi_burung = [elang_jawa, pipit_gereja, burung_aneh]\n",
        "  demonstrasi_aksi_burung(koleksi_burung)\n",
        "\n"
      ]
    },
    {
      "cell_type": "markdown",
      "source": [
        "##Praktikum 02: Polimorfisme dengan Duck Typing"
      ],
      "metadata": {
        "id": "Nx7wMxlCphRc"
      }
    },
    {
      "cell_type": "code",
      "source": [
        "class Kucing:\n",
        "  def bersuara(self):\n",
        "    print(\"Kucing: Meow!\")\n",
        "\n",
        "class Anjing:\n",
        "  def bersuara(self):\n",
        "    print(\"Anjing: Guk guk!\")\n",
        "\n",
        "class Bebek:\n",
        "  def bersuara(self):\n",
        "    print(\"Bebek: Kwek kwek!\")\n",
        "\n",
        "class Mobil: #kelas ini tidak mempunyai metode bersuara()\n",
        "  def jalankan(self):\n",
        "    print(\"Mobil: Bruuummmm!\")\n",
        "\n",
        "#fungsi ini tidak peduli tipe objeknya,\n",
        "#asal punya metode . bersuara()\n",
        "def buat_suara(objek_yang_bisa_bersuara):\n",
        "  try:\n",
        "    #Memanggil metode 'bersuara' jika ada\n",
        "    objek_yang_bisa_bersuara.bersuara()\n",
        "  except AttributeError:\n",
        "    #Menangani jika objek tidak punya metode 'bersuara'\n",
        "    print(f\"{objek_yang_bisa_bersuara.__class__.__name__} tidak bisa bersuara.\")\n",
        "\n",
        "#---Kode Utama---\n",
        "if __name__ == \"__main__\":\n",
        "  kucing1 = Kucing()\n",
        "  anjing1 = Anjing()\n",
        "  bebek1 = Bebek()\n",
        "  mobil1 = Mobil()\n",
        "\n",
        "  daftar_objek = [kucing1, anjing1, bebek1, mobil1]\n",
        "\n",
        "  print(\"Demonstrasi Duck Typing:\")\n",
        "  for item in daftar_objek:\n",
        "    buat_suara(item)  #Fungsi polimorfik via duck typing"
      ],
      "metadata": {
        "id": "mjKizVJxmph9",
        "outputId": "38d4f501-e12a-47e2-ecb1-2870f8d87bbf",
        "colab": {
          "base_uri": "https://localhost:8080/"
        }
      },
      "execution_count": null,
      "outputs": [
        {
          "output_type": "stream",
          "name": "stdout",
          "text": [
            "Demonstrasi Duck Typing:\n",
            "Kucing: Meow!\n",
            "Anjing: Guk guk!\n",
            "Bebek: Kwek kwek!\n",
            "Mobil tidak bisa bersuara.\n"
          ]
        }
      ]
    },
    {
      "cell_type": "markdown",
      "source": [
        "##Praktikum 03: Simulasi Overloading dalam Metode Kelas dengan *args"
      ],
      "metadata": {
        "id": "3aObvZe3ruSd"
      }
    },
    {
      "cell_type": "code",
      "source": [
        "class KalkulatorSederhana:\n",
        "  def __init__(self, nama=\"Kalkulator\"):\n",
        "    self.nama = nama\n",
        "    print(f\"{self.nama} siap digunakan.\")\n",
        "\n",
        "  def tambah(self, *args):\n",
        "    \"\"\"\n",
        "    Metode ini menjumlahkan semua argumen angka yang diberikan.\n",
        "    Menerima sejumlah semua argumen posisi menggunakan *args.\n",
        "    \"\"\"\n",
        "    print(f\"\\nMemanggil metode tambah dengan argumen: {args}\")\n",
        "    if not args:\n",
        "      print(\"Tidak ada angka untuk dijumlahkan.\")\n",
        "      return 0 # Atau bisa juga none atau raise error\n",
        "\n",
        "    total = 0\n",
        "    valid_input = True\n",
        "    for angka in args:\n",
        "      #Melakukan pengecekan tipe sederhana\n",
        "      if isinstance(angka, (int, float)):\n",
        "        total += angka\n",
        "      else:\n",
        "        print(f\"Peringatan: Argumen '{angka}' bukan angka dan akan diabaikan.\")\n",
        "        valid_input = False\n",
        "\n",
        "      if valid_input:\n",
        "        print(f\"Hasil penjumlahan: {total}\")\n",
        "      else:\n",
        "        print(f\"Hasil penjumlahan (dengan beberapa input diabaikan): {total}\")\n",
        "      return total\n",
        "\n",
        "#---Kode Utama---\n",
        "if __name__ ==\"__main__\":\n",
        "  calc = KalkulatorSederhana(\"Calc-01\")\n",
        "\n",
        "  #Memanggil metode 'tambah' dengan jumlah argumen berbeda\n",
        "  print(\"\\n--- Percobaan Penjumlahan---\")\n",
        "  calc.tambah(5, 10)\n",
        "  calc.tambah(2, 3, 5, 10)\n",
        "  calc.tambah(100)\n",
        "  calc.tambah() #tanpa argumen\n",
        "  calc.tambah(1, 2, \"tiga\", 4, 5.5) #Dengan inout non-angka"
      ],
      "metadata": {
        "id": "sXAru4uHrfHu",
        "outputId": "c6900df2-072b-4f3a-d5eb-42d1198940c9",
        "colab": {
          "base_uri": "https://localhost:8080/"
        }
      },
      "execution_count": null,
      "outputs": [
        {
          "output_type": "stream",
          "name": "stdout",
          "text": [
            "Calc-01 siap digunakan.\n",
            "\n",
            "--- Percobaan Penjumlahan---\n",
            "\n",
            "Memanggil metode tambah dengan argumen: (5, 10)\n",
            "Hasil penjumlahan: 5\n",
            "\n",
            "Memanggil metode tambah dengan argumen: (2, 3, 5, 10)\n",
            "Hasil penjumlahan: 2\n",
            "\n",
            "Memanggil metode tambah dengan argumen: (100,)\n",
            "Hasil penjumlahan: 100\n",
            "\n",
            "Memanggil metode tambah dengan argumen: ()\n",
            "Tidak ada angka untuk dijumlahkan.\n",
            "\n",
            "Memanggil metode tambah dengan argumen: (1, 2, 'tiga', 4, 5.5)\n",
            "Hasil penjumlahan: 1\n"
          ]
        }
      ]
    },
    {
      "cell_type": "markdown",
      "source": [
        "##Praktikum 04: Simulasi Overloading dalam Metode Kelas dengan *args dan **kwargs"
      ],
      "metadata": {
        "id": "gXU05ZMWuzZv"
      }
    },
    {
      "cell_type": "code",
      "source": [
        "class DataProcessor:\n",
        "  def __init__(self, processor_id):\n",
        "    self.processor_id = processor_id\n",
        "    print(f\"Data Processor {self.processor_id} siap.\")\n",
        "\n",
        "  def process(self, *args, **kwargs):\n",
        "    \"\"\"\n",
        "    Metode ini memproses data dengan argumen posisi (*args)\n",
        "    dan kata kunci (**kwargs) yang jumlahnya variabel.\n",
        "    \"\"\"\n",
        "    print(f\"\\n--- {self.processor_id} Memproses data---\")\n",
        "\n",
        "    #Memproses argumen posisi (*args -> tuple)\n",
        "    if args:\n",
        "      print(\"Argumen Posisi Diterima:\")\n",
        "      for i, arg in enumerate(args):\n",
        "        print(f\" args[{i}]: {arg} (tipe: {type(arg).__name__})\")\n",
        "    else:\n",
        "      print(\"Tidak ada argumen posisi.\")\n",
        "\n",
        "    #Memproses kata kunci (**kwargs -> dict)\n",
        "    if kwargs:\n",
        "      print(\"Argumen Kata Kunci Diterima:\")\n",
        "      for kunci, nilai in kwargs.items():\n",
        "        print(f\" {kunci}: {nilai} (tipe: {type(nilai).__name__})\")\n",
        "    else:\n",
        "      print(\"Tidak ada argumen kata kunci.\")\n",
        "\n",
        "    print(\"--------------------------------\")\n",
        "\n",
        "#----Kode Utama---\n",
        "if __name__ == \"__main__\":\n",
        "  #Membuat instance dari kelas\n",
        "  processor1 = DataProcessor(\"D001\")\n",
        "\n",
        "  #Memanggil metode 'process' dengan berbagai cara\n",
        "  print(\"\\nPanggilan 1 : Tanpa argumen tambahan\")\n",
        "  processor1.process()\n",
        "\n",
        "  print(\"\\nPanggilan 2 : Hanya argumen posisi\")\n",
        "  processor1.process(100, \"Status OK\", 99.9, False)\n",
        "\n",
        "  print(\"\\nPanggilan 3 : Hanya argumen kata kunci\")\n",
        "  processor1.process(user=\"admin\", level=5, mode=\"verbose\")\n",
        "\n",
        "  print(\"\\nPanggilan 4 : Kombinasi argumen posisi dan kata kunci\")\n",
        "  processor1.process(\"Task-A\", \"Task-B\", status=\"Running\", priority=\"High\", thread_id=54321)\n",
        "\n",
        "  #Panggilan dengan list dan dictionary sebagai argumen posisi\n",
        "  print(\"\\nPanggilan 5 : Argumen posisi kompleks\")\n",
        "  list_ids = [\"A1\", \"B2\", \"C3\"]\n",
        "  dict_params = {\"timeout\": 30, \"retry\": 3}\n",
        "  processor1.process(list_ids, dict_params, owner=\"system\", enabled=True)\n"
      ],
      "metadata": {
        "id": "wbXTHsnbuqMP",
        "outputId": "06824c65-1b2f-48f6-c269-4184654aa0f5",
        "colab": {
          "base_uri": "https://localhost:8080/"
        }
      },
      "execution_count": null,
      "outputs": [
        {
          "output_type": "stream",
          "name": "stdout",
          "text": [
            "Data Processor D001 siap.\n",
            "\n",
            "Panggilan 1 : Tanpa argumen tambahan\n",
            "\n",
            "--- D001 Memproses data---\n",
            "Tidak ada argumen posisi.\n",
            "Tidak ada argumen kata kunci.\n",
            "--------------------------------\n",
            "\n",
            "Panggilan 2 : Hanya argumen posisi\n",
            "\n",
            "--- D001 Memproses data---\n",
            "Argumen Posisi Diterima:\n",
            " args[0]: 100 (tipe: int)\n",
            " args[1]: Status OK (tipe: str)\n",
            " args[2]: 99.9 (tipe: float)\n",
            " args[3]: False (tipe: bool)\n",
            "Tidak ada argumen kata kunci.\n",
            "--------------------------------\n",
            "\n",
            "Panggilan 3 : Hanya argumen kata kunci\n",
            "\n",
            "--- D001 Memproses data---\n",
            "Tidak ada argumen posisi.\n",
            "Argumen Kata Kunci Diterima:\n",
            " user: admin (tipe: str)\n",
            " level: 5 (tipe: int)\n",
            " mode: verbose (tipe: str)\n",
            "--------------------------------\n",
            "\n",
            "Panggilan 4 : Kombinasi argumen posisi dan kata kunci\n",
            "\n",
            "--- D001 Memproses data---\n",
            "Argumen Posisi Diterima:\n",
            " args[0]: Task-A (tipe: str)\n",
            " args[1]: Task-B (tipe: str)\n",
            "Argumen Kata Kunci Diterima:\n",
            " status: Running (tipe: str)\n",
            " priority: High (tipe: str)\n",
            " thread_id: 54321 (tipe: int)\n",
            "--------------------------------\n",
            "\n",
            "Panggilan 5 : Argumen posisi kompleks\n",
            "\n",
            "--- D001 Memproses data---\n",
            "Argumen Posisi Diterima:\n",
            " args[0]: ['A1', 'B2', 'C3'] (tipe: list)\n",
            " args[1]: {'timeout': 30, 'retry': 3} (tipe: dict)\n",
            "Argumen Kata Kunci Diterima:\n",
            " owner: system (tipe: str)\n",
            " enabled: True (tipe: bool)\n",
            "--------------------------------\n"
          ]
        }
      ]
    },
    {
      "cell_type": "markdown",
      "source": [
        "##Praktikum 05: Kombinasi Polimorfisme (Inheritance & Duck Typing)"
      ],
      "metadata": {
        "id": "C0Zliz8xz4O6"
      }
    },
    {
      "cell_type": "code",
      "source": [
        "from re import S\n",
        "import math\n",
        "\n",
        "#--- Definisi Kelas dari Hierarki Inheritance ---\n",
        "class Bentuk:\n",
        "  #Metode ini bisa dianggap sebagai 'template' atau interface dasar\n",
        "  def nama_bentuk(self):\n",
        "    return \"Bentuk Generik\"\n",
        "\n",
        "  #Metode ini wajib di ovveride oleh subclass\n",
        "  def hitung_luas(self):\n",
        "    raise NotImplementedError(\"Subclass harus mengimplementasikan metode ini\")\n",
        "\n",
        "class Lingkaran(Bentuk):\n",
        "  def __init__(self, radius):\n",
        "    self.radius = radius\n",
        "\n",
        "  #Override\n",
        "  def nama_bentuk(self):\n",
        "    return \"Lingkaran\"\n",
        "\n",
        "  #Override\n",
        "  def hitung_luas(self):\n",
        "    return math.pi * (self.radius ** 2)\n",
        "\n",
        "class Persegi(Bentuk):\n",
        "  def __init__(self, sisi):\n",
        "    self.sisi = sisi\n",
        "\n",
        "  #Override\n",
        "  def nama_bentuk(self):\n",
        "    return \"Persegi\"\n",
        "\n",
        "  #Override\n",
        "  def hitung_luas(self):\n",
        "    return self.sisi * self.sisi\n",
        "\n",
        "#---Definisi Kelas Lain (Tidak Terkait Inheritance dengan Bentuk)---\n",
        "class TaplakMeja:\n",
        "  def __init__(self, panjang, lebar):\n",
        "    self.panjang = panjang\n",
        "    self.lebar = lebar\n",
        "\n",
        "  #Metode denfan nama sama -> 'hitung_luas'\n",
        "  #Ini memmungkinkan TaplakMeja bekerja dengan fungsi polimorfik di bawah\n",
        "  def hitung_luas(self):\n",
        "    return self.panjang * self.lebar\n",
        "\n",
        "  #Metode yang berbeda, tidak ada di kelas Bentuk\n",
        "  def deskripsi(self):\n",
        "    return (f\"Taplak Meja {self.panjang}x{self.lebar}\")\n",
        "\n",
        "#---Fungsi Polimorfik---\n",
        "def tampilkan_info_luas(objek_dengan_luas):\n",
        "  print(\"-\" * 20)\n",
        "  try:\n",
        "    #Mencoba memanggil hitung_luas() - inti polimorfisme\n",
        "    luas = objek_dengan_luas.hitung_luas()\n",
        "\n",
        "    #Mencoba mendapatkan nama jika ada (duck typing tambahan)\n",
        "    try:\n",
        "      nama = objek_dengan_luas.nama_bentuk()\n",
        "    except AttributeError:\n",
        "      #Jika tidak ada nama_bentuk(), gunakana nama kelasnya\n",
        "      nama = type(objek_dengan_luas).__name__\n",
        "\n",
        "    print(f\"Objek: {nama}\")\n",
        "    print(f\"Luas {nama}: {luas:.2f}\") #Format luas 2 angka desimal\n",
        "\n",
        "  except AttributeError:\n",
        "    #Menangani jika objek sama sekali tidak punya. hitung_luas()\n",
        "    print(f\"Objek {type(objek_dengan_luas).__name__} tidak dapat dihitung luasnya (metode tidak ditemukan).\")\n",
        "  except NotImplementedError:\n",
        "    #Menangani jika metode ada tapi belum diimplementasi (Dari kelas Bentuk)\n",
        "    print(f\"Metode hitung_luas() belum diimplementasikan dalam kelas {type(objek_dengan_luas).__name__}.\")\n",
        "\n",
        "\n",
        "#---Kode Utama---\n",
        "if __name__ == \"__main__\":\n",
        "  lingkaran1 = Lingkaran(7)\n",
        "  persegi1 = Persegi(5)\n",
        "  taplak1 = TaplakMeja(1.5, 0.8)\n",
        "  bentuk_dasar = Bentuk() #Objek kelas induk (akan raise NotImplementedError)\n",
        "  string_biasa = \"Ini string\" #Objek yang tidak relevan\n",
        "  daftar_item = [lingkaran1, persegi1, taplak1, bentuk_dasar, string_biasa]\n",
        "  print(\"Menampilkan Info Luas (Polimorfisme Campuran):\")\n",
        "  for item in daftar_item:\n",
        "      tampilkan_info_luas(item)"
      ],
      "metadata": {
        "id": "djg3rrcRyqNc",
        "outputId": "37cf04a3-73d6-4be5-f1e8-7a7b43a60254",
        "colab": {
          "base_uri": "https://localhost:8080/"
        }
      },
      "execution_count": null,
      "outputs": [
        {
          "output_type": "stream",
          "name": "stdout",
          "text": [
            "Menampilkan Info Luas (Polimorfisme Campuran):\n",
            "--------------------\n",
            "Objek: Lingkaran\n",
            "Luas Lingkaran: 153.94\n",
            "--------------------\n",
            "Objek: Persegi\n",
            "Luas Persegi: 25.00\n",
            "--------------------\n",
            "Objek: TaplakMeja\n",
            "Luas TaplakMeja: 1.20\n",
            "--------------------\n",
            "Metode hitung_luas() belum diimplementasikan dalam kelas Bentuk.\n",
            "--------------------\n",
            "Objek str tidak dapat dihitung luasnya (metode tidak ditemukan).\n"
          ]
        }
      ]
    },
    {
      "cell_type": "markdown",
      "source": [
        "##Praktikum 06: Kontrol Perilaku Polimorfik dengan isinstance()"
      ],
      "metadata": {
        "id": "kfenNK385nqI"
      }
    },
    {
      "cell_type": "code",
      "source": [
        "#---Definisi Kelas Burung, Elang, Pipit---\n",
        "class Burung:\n",
        "    def __init__(self, nama):\n",
        "        self.nama = nama\n",
        "\n",
        "    def terbang(self):\n",
        "        print(f\"{self.nama} terbang dengan cara umum.\")\n",
        "\n",
        "    def bersuara(self):\n",
        "        print(f\"{self.nama} mengeluarkan suara burung.\")\n",
        "\n",
        "\n",
        "class Elang(Burung):\n",
        "    def __init__(self, nama, rentang_sayap):\n",
        "        super().__init__(nama)\n",
        "        self.rentang_sayap = rentang_sayap\n",
        "\n",
        "    # Override\n",
        "    def terbang(self):\n",
        "        print(f\"{self.nama} terbang tinggi melayang di angkasa.\")\n",
        "\n",
        "    # Override\n",
        "    def bersuara(self):\n",
        "        print(f\"{self.nama} berteriak nyaring !\")\n",
        "\n",
        "    # Metode khusus Elang\n",
        "    def berburu(self):\n",
        "        print(f\"{self.nama} sedang mencari mangsa dari ketinggian.\")\n",
        "\n",
        "\n",
        "class Pipit(Burung):\n",
        "    def __init__(self, nama, warna_bulu):\n",
        "        super().__init__(nama)\n",
        "        self.warna_bulu = warna_bulu\n",
        "\n",
        "    # Override\n",
        "    def terbang(self):\n",
        "        print(f\"{self.nama} terbang cepat di antara pepohonan.\")\n",
        "\n",
        "    # Override\n",
        "    def bersuara(self):\n",
        "        print(f\"{self.nama} berkicau merdu: Cit cit!\")\n",
        "\n",
        "    # Metode khusus Pipit\n",
        "    def membangun_sarang(self):\n",
        "        print(f\"{self.nama} sedang mengumpulkan ranting untuk sarang.\")\n",
        "\n",
        "\n",
        "#---Fungsi yang memanfaatkan polimorfisme dan isinstance()---\n",
        "def interaksi_dengan_burung(burung):\n",
        "    print(f\"\\n--- Berinteraksi dengan {type(burung).__name__}: {getattr(burung, 'nama', 'Objek tidak dikenal')} ---\")\n",
        "\n",
        "    # Cek dulu apakah objek adalah instance dari Burung atau turunannya\n",
        "    if isinstance(burung, Burung):\n",
        "        # Perilaku polimorfik dasar (memanggil metode override)\n",
        "        burung.bersuara()\n",
        "        burung.terbang()\n",
        "\n",
        "        # Menambahkan perilaku spesifik berdasarkan tipe turunan\n",
        "        if isinstance(burung, Elang):\n",
        "            print(\"-> Ini adalah Elang!\")\n",
        "            burung.berburu()  # Panggil metode khusus Elang\n",
        "        elif isinstance(burung, Pipit):\n",
        "            print(\"-> Ini adalah Pipit!\")\n",
        "            burung.membangun_sarang()  # Panggil metode khusus Pipit\n",
        "        else:\n",
        "            # Hanya Burung Generik, bukan turunan spesisifik yang dikenali\n",
        "            print(\"-> Ini adalah burung jenis umum (bukan Elang/Pipit)\")\n",
        "    else:\n",
        "        # Jika objek Bukan instance Burung sama sekali\n",
        "        print(\"-> Objek ini bukan termasuk jenis Burung\")\n",
        "        print(\"-\" * 25)\n",
        "\n",
        "\n",
        "#---Kode Utama---\n",
        "if __name__ == \"__main__\":\n",
        "    elang_sumatra = Elang(\"Elang Sumatra\", 1.8)\n",
        "    pipit_rumah = Pipit(\"Pipit Rumah\", \"Abu-abu\")\n",
        "    merak = Burung(\"Merak\")  # Contoh Burung lain (induk)\n",
        "    kucing_tetangga = \"Meong\"  # Objek non-burung\n",
        "\n",
        "    koleksi_makhluk = [elang_sumatra, pipit_rumah, merak, kucing_tetangga]\n",
        "\n",
        "    for makhluk in koleksi_makhluk:\n",
        "        interaksi_dengan_burung(makhluk)\n"
      ],
      "metadata": {
        "id": "p6mnJTWkDDyr",
        "outputId": "4bb745c3-fc26-4dcf-e0cf-3a1693f1ae6c",
        "colab": {
          "base_uri": "https://localhost:8080/"
        }
      },
      "execution_count": null,
      "outputs": [
        {
          "output_type": "stream",
          "name": "stdout",
          "text": [
            "\n",
            "--- Berinteraksi dengan Elang: Elang Sumatra ---\n",
            "Elang Sumatra berteriak nyaring !\n",
            "Elang Sumatra terbang tinggi melayang di angkasa.\n",
            "-> Ini adalah Elang!\n",
            "Elang Sumatra sedang mencari mangsa dari ketinggian.\n",
            "\n",
            "--- Berinteraksi dengan Pipit: Pipit Rumah ---\n",
            "Pipit Rumah berkicau merdu: Cit cit!\n",
            "Pipit Rumah terbang cepat di antara pepohonan.\n",
            "-> Ini adalah Pipit!\n",
            "Pipit Rumah sedang mengumpulkan ranting untuk sarang.\n",
            "\n",
            "--- Berinteraksi dengan Burung: Merak ---\n",
            "Merak mengeluarkan suara burung.\n",
            "Merak terbang dengan cara umum.\n",
            "-> Ini adalah burung jenis umum (bukan Elang/Pipit)\n",
            "\n",
            "--- Berinteraksi dengan str: Objek tidak dikenal ---\n",
            "-> Objek ini bukan termasuk jenis Burung\n",
            "-------------------------\n"
          ]
        }
      ]
    },
    {
      "cell_type": "markdown",
      "source": [
        "##Penugasan\n"
      ],
      "metadata": {
        "id": "34M9Vzk5DlCx"
      }
    },
    {
      "cell_type": "code",
      "source": [
        "#Kelas Induk\n",
        "class Komputer:\n",
        "  def __init__(self, merk, processor, ram_gb):\n",
        "    self.merk = merk\n",
        "    self.processor = processor\n",
        "    self.ram_gb = ram_gb\n",
        "\n",
        "  def info_spesifikasi(self):\n",
        "    print(f\"Merk: {self.merk}\")\n",
        "    print(f\"Processor: {self.processor}\")\n",
        "    print(f\"RAM: {self.ram_gb} GB\")\n",
        "\n",
        "  def jalankan_aplikasi(self, nama_aplikasi):\n",
        "    print(f\"{self.merk} sedang menjalankan aplikasi: {nama_aplikasi}\")\n",
        "\n",
        "  def upgrade_ram(self, tambahan_gb, tipe_ram= \"DDR4\"):\n",
        "    self.ram_gb += tambahan_gb\n",
        "    print(f\"RAM {self.merk} diupgrade sebesar {tambahan_gb} GB (Tipe: {tipe_ram})\")\n",
        "    print(f\"Total RAM sekarang : {self.ram_gb} GB\")\n",
        "\n",
        "#Kelas Anak1 Laptop\n",
        "class Laptop(Komputer):\n",
        "  def __init__(self, merk, processor, ram_gb, ukuran_layar_inch, berat_kg):\n",
        "    super().__init__(merk, processor, ram_gb)\n",
        "    self.ukuran_layar_inch = ukuran_layar_inch\n",
        "    self.berat_kg = berat_kg\n",
        "\n",
        "  def info_spesifikasi(self):\n",
        "    super().info_spesifikasi()\n",
        "    print(f\"Ukuran Layar: {self.ukuran_layar_inch} inci\")\n",
        "    print(f\"Berat: {self.berat_kg} kg\")\n",
        "\n",
        "#Kelas Anak2 Desktop\n",
        "class Desktop(Komputer):\n",
        "  def __init__(self, merk, processor, ram_gb, jenis_casing, monitor_external):\n",
        "    super().__init__(merk, processor, ram_gb)\n",
        "    self.jenis_casing = jenis_casing\n",
        "    self.monitor_external = monitor_external\n",
        "\n",
        "  def info_spesifikasi(self):\n",
        "    super().info_spesifikasi()\n",
        "    print(f\"Jenis Casing: {self.jenis_casing}\")\n",
        "    print(f\"Monitor External: {'Ya' if self.monitor_external else 'Tidak'}\")\n",
        "\n",
        "#polimorfisme\n",
        "def cetak_semua_spesifikasi(daftar_komputer):\n",
        "  for komputer in daftar_komputer:\n",
        "    komputer.info_spesifikasi()\n",
        "    print(\"-\" * 30)\n",
        "\n",
        "\n",
        "#Kode Utama\n",
        "if __name__ == \"__main__\":\n",
        "  laptop1 = Laptop(\"HP\", \"AMD Ryzen 5\", 8, 14.0, 1.5)\n",
        "  desktop1 = Desktop(\"Dell\", \"Intel Core i7\", 16, \"Tower\", True)\n",
        "  laptop2 = Laptop(\"Asus\", \"Intel Core i5\", 4, 14.0, 1.5)\n",
        "  desktop2 = Desktop(\"Dell\", \"AMD Ryzen 5\", 4, \"Mini PC\", True )\n",
        "\n",
        "  daftar_komputer = [laptop1, desktop1, laptop2, desktop2]\n",
        "  cetak_semua_spesifikasi(daftar_komputer)\n",
        "\n",
        "#demonstrasi\n",
        "  laptop1.upgrade_ram(8)\n",
        "  desktop1.upgrade_ram(4, \"DDR4\")\n",
        "  laptop2.upgrade_ram(8)\n",
        "  desktop2.upgrade_ram(4, \"DDR5\")\n",
        "\n",
        "\n",
        "\n",
        "\n"
      ],
      "metadata": {
        "id": "KnATzc0DENnO",
        "outputId": "17ec360f-4a14-4f27-d49e-dfbd447b79e1",
        "colab": {
          "base_uri": "https://localhost:8080/"
        }
      },
      "execution_count": 3,
      "outputs": [
        {
          "output_type": "stream",
          "name": "stdout",
          "text": [
            "Merk: HP\n",
            "Processor: AMD Ryzen 5\n",
            "RAM: 8 GB\n",
            "Ukuran Layar: 14.0 inci\n",
            "Berat: 1.5 kg\n",
            "------------------------------\n",
            "Merk: Dell\n",
            "Processor: Intel Core i7\n",
            "RAM: 16 GB\n",
            "Jenis Casing: Tower\n",
            "Monitor External: Ya\n",
            "------------------------------\n",
            "Merk: Asus\n",
            "Processor: Intel Core i5\n",
            "RAM: 4 GB\n",
            "Ukuran Layar: 14.0 inci\n",
            "Berat: 1.5 kg\n",
            "------------------------------\n",
            "Merk: Dell\n",
            "Processor: AMD Ryzen 5\n",
            "RAM: 4 GB\n",
            "Jenis Casing: Mini PC\n",
            "Monitor External: Ya\n",
            "------------------------------\n",
            "RAM HP diupgrade sebesar 8 GB (Tipe: DDR4)\n",
            "Total RAM sekarang : 16 GB\n",
            "RAM Dell diupgrade sebesar 4 GB (Tipe: DDR4)\n",
            "Total RAM sekarang : 20 GB\n",
            "RAM Asus diupgrade sebesar 8 GB (Tipe: DDR4)\n",
            "Total RAM sekarang : 12 GB\n",
            "RAM Dell diupgrade sebesar 4 GB (Tipe: DDR5)\n",
            "Total RAM sekarang : 8 GB\n"
          ]
        }
      ]
    },
    {
      "cell_type": "code",
      "source": [],
      "metadata": {
        "id": "W2uAo1iXO16W"
      },
      "execution_count": null,
      "outputs": []
    }
  ]
}