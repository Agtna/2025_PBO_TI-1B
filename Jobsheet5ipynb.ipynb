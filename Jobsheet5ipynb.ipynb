{
  "nbformat": 4,
  "nbformat_minor": 0,
  "metadata": {
    "colab": {
      "provenance": [],
      "authorship_tag": "ABX9TyNUhPqYeXjy2hOX3e96rtfI",
      "include_colab_link": true
    },
    "kernelspec": {
      "name": "python3",
      "display_name": "Python 3"
    },
    "language_info": {
      "name": "python"
    }
  },
  "cells": [
    {
      "cell_type": "markdown",
      "metadata": {
        "id": "view-in-github",
        "colab_type": "text"
      },
      "source": [
        "<a href=\"https://colab.research.google.com/github/Agtna/2025_PBO_TI-1B/blob/main/Jobsheet5ipynb.ipynb\" target=\"_parent\"><img src=\"https://colab.research.google.com/assets/colab-badge.svg\" alt=\"Open In Colab\"/></a>"
      ]
    },
    {
      "cell_type": "markdown",
      "source": [
        "##Praktikum 01: Polimorfisme dengan Inheritance dan Overriding"
      ],
      "metadata": {
        "id": "M_E11mkZiYWQ"
      }
    },
    {
      "cell_type": "code",
      "execution_count": 14,
      "metadata": {
        "colab": {
          "base_uri": "https://localhost:8080/"
        },
        "id": "HweYwzMkiPSA",
        "outputId": "949d880b-3e30-4f6f-f870-292420afa100"
      },
      "outputs": [
        {
          "output_type": "stream",
          "name": "stdout",
          "text": [
            "\n",
            "AKsi Burung:\n",
            "--Aksi untuk Elang Jawa --\n",
            "Elang Jawa terbang tinggi melayang di angkasa\n",
            "Elang Jawa berteriak nyaring!\n",
            "---------------\n",
            "--Aksi untuk Pipit Gereja --\n",
            "Pipit Gereja terbang cepat di antara pepohonan.\n",
            "Pipit Gereja berkicau merdu: Cit cit!\n",
            "---------------\n",
            "--Aksi untuk Burung Misterius --\n",
            "Burung Misterius terbang dengan cara umum.\n",
            "Burung Misterius mengeluarkan suara burung.\n",
            "---------------\n"
          ]
        }
      ],
      "source": [
        "#Kelas Induk\n",
        "class Burung:\n",
        "  def __init__(self, nama):\n",
        "    self.nama = nama\n",
        "\n",
        "  def terbang(self):\n",
        "    print(f\"{self.nama} terbang dengan cara umum.\")\n",
        "\n",
        "  def bersuara(self):\n",
        "    print(f\"{self.nama} mengeluarkan suara burung.\")\n",
        "\n",
        "#Kelas Anak 1\n",
        "class Elang(Burung):\n",
        "  def __init__(self, nama, rentang_sayap):\n",
        "    super().__init__(nama)\n",
        "    self.rentang_sayap = rentang_sayap\n",
        "\n",
        "  #Override\n",
        "  def terbang(self):\n",
        "    print(f\"{self.nama} terbang tinggi melayang di angkasa\")\n",
        "\n",
        "  #Override\n",
        "  def bersuara(self):\n",
        "    print(f\"{self.nama} berteriak nyaring!\")\n",
        "\n",
        "#Kelas Anak 2\n",
        "class Pipit(Burung):\n",
        "  def __init__(self, nama, warna_bulu):\n",
        "    super().__init__(nama)\n",
        "    self.warna_bulu = warna_bulu\n",
        "\n",
        "  #Override\n",
        "  def terbang(self):\n",
        "    print(f\"{self.nama} terbang cepat di antara pepohonan.\")\n",
        "\n",
        "  #Override\n",
        "  def bersuara(self):\n",
        "    print(f\"{self.nama} berkicau merdu: Cit cit!\")\n",
        "\n",
        "#Fungsi yang memanfaatkan polimorfisme\n",
        "def demonstrasi_aksi_burung(daftar_burung):\n",
        "  print(\"\\nAKsi Burung:\")\n",
        "  for burung in daftar_burung:\n",
        "    print(f\"--Aksi untuk {burung.nama} --\")\n",
        "    #Panggilan metode yang sama, tapi perilaku berbeda tergantung objek\n",
        "    burung.terbang()\n",
        "    burung.bersuara()\n",
        "    print(\"-\" * 15)\n",
        "\n",
        "#---Kode Utama---\n",
        "if __name__ == \"__main__\":\n",
        "  elang_jawa    = Elang(\"Elang Jawa\", 1.5)\n",
        "  pipit_gereja  = Pipit(\"Pipit Gereja\", \"Coklat\")\n",
        "  burung_aneh   = Burung(\"Burung Misterius\") #Objek dari kelas induk\n",
        "\n",
        "  koleksi_burung = [elang_jawa, pipit_gereja, burung_aneh]\n",
        "  demonstrasi_aksi_burung(koleksi_burung)\n",
        "\n"
      ]
    },
    {
      "cell_type": "code",
      "source": [],
      "metadata": {
        "id": "mjKizVJxmph9"
      },
      "execution_count": null,
      "outputs": []
    }
  ]
}