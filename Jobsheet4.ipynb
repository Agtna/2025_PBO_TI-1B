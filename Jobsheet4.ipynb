{
  "nbformat": 4,
  "nbformat_minor": 0,
  "metadata": {
    "colab": {
      "provenance": [],
      "authorship_tag": "ABX9TyNdfgApPwTQ0kiERCFvvI2D",
      "include_colab_link": true
    },
    "kernelspec": {
      "name": "python3",
      "display_name": "Python 3"
    },
    "language_info": {
      "name": "python"
    }
  },
  "cells": [
    {
      "cell_type": "markdown",
      "metadata": {
        "id": "view-in-github",
        "colab_type": "text"
      },
      "source": [
        "<a href=\"https://colab.research.google.com/github/Agtna/2025_PBO_TI-1B/blob/main/Jobsheet4.ipynb\" target=\"_parent\"><img src=\"https://colab.research.google.com/assets/colab-badge.svg\" alt=\"Open In Colab\"/></a>"
      ]
    },
    {
      "cell_type": "markdown",
      "source": [
        "#Jobsheet 4"
      ],
      "metadata": {
        "id": "LT-UCzsEm8YF"
      }
    },
    {
      "cell_type": "markdown",
      "source": [
        "##Praktikum 01: Inheritance Dasar"
      ],
      "metadata": {
        "id": "0BEOwnHfm_07"
      }
    },
    {
      "cell_type": "code",
      "execution_count": null,
      "metadata": {
        "colab": {
          "base_uri": "https://localhost:8080/"
        },
        "id": "K2TNRflTltWO",
        "outputId": "eb5c9cb4-603d-4313-c7de-0139bdca88fa"
      },
      "outputs": [
        {
          "output_type": "stream",
          "name": "stdout",
          "text": [
            "Ini adalah mobil Tesla Model S berwarna Merah.\n",
            "MesinTesla Model S dinyalakan.\n",
            "Merk mobil: Tesla Model S\n"
          ]
        }
      ],
      "source": [
        "# Kelas Induk\n",
        "class Kendaraan:\n",
        "  def _init_(self, nama, merk):\n",
        "    self.merk = merk\n",
        "  def mulai_mesin(self):\n",
        "    print(f\"Mesin{self.merk} dinyalakan.\")\n",
        "\n",
        "# Kelas Anak (mewarisi dari Kendaraan)\n",
        "class Mobil(Kendaraan):\n",
        "  def __init__(self, merk, warna):\n",
        "    #Memanggil _init__kelas induk ( akan dibahs di Praktikum 2)\n",
        "    #Untuk sekarang, kita set merk secara manual\n",
        "    self.merk = merk #Mewarisi 'merk' tapi di-set ulang disini\n",
        "    self.warna = warna #Atribut khusus Mobil\n",
        "\n",
        "  def info_mobil(self):\n",
        "    print(f\"Ini adalah mobil {self.merk} berwarna {self.warna}.\")\n",
        "\n",
        "#---Kode Utama---\n",
        "if __name__==\"__main__\":\n",
        "  mobil_tesla = Mobil(\"Tesla Model S\", \"Merah\")\n",
        "\n",
        "  #Memanggil metode dari kelas anak\n",
        "  mobil_tesla.info_mobil()\n",
        "\n",
        "  #Memanggil metode yang diwarisi dari kelas induk\n",
        "  mobil_tesla.mulai_mesin()\n",
        "\n",
        "  #Mengakses atribut yang diwarisi (dan si-set di anak)\n",
        "  print(f\"Merk mobil: {mobil_tesla.merk}\")"
      ]
    },
    {
      "cell_type": "markdown",
      "source": [
        "##Praktikum 02: Mengggunakan super() dalam konstruktor"
      ],
      "metadata": {
        "id": "CZTUR9Z7qhu0"
      }
    },
    {
      "cell_type": "code",
      "source": [
        "#Kelas Induk\n",
        "class Person:\n",
        "  def __init__(self, nama, usia):\n",
        "    print(f\"(Memanggil _init___Person untuk'{nama}')\")\n",
        "    self.nama = nama\n",
        "    self.usia = usia\n",
        "\n",
        "  def perkenalkan_diri(self):\n",
        "    print(f\"Halo, nama saya {self.nama}, usia saya {self.usia} tahun.\")\n",
        "\n",
        "#Kelas Anak (mewarisi dari Person)\n",
        "class Student(Person):\n",
        "  def __init__(self, nama, usia, student_id, jurusan):\n",
        "    print(f\"(Memanggil _init___Student untuk '{nama}')\")\n",
        "    #Memanggil _init__ dari kelas Person untuk inisialisasi nama dan usia\n",
        "    super().__init__(nama, usia)\n",
        "    #Menambahkan atribut khusus Student\n",
        "    self.student_id = student_id\n",
        "    self.jurusan = jurusan\n",
        "    print(f\"(inisialisasi atribut Student selesai untuk '{nama}')\")\n",
        "\n",
        "  def info_akademik(self):\n",
        "    print(f\"ID Mahasiswa: {self.student_id}\")\n",
        "    print(f\"Jurusan: {self.jurusan}\")\n",
        "\n",
        "  #Override perkenalkan_diri untuk menambahkan info student\n",
        "  def perkenalkan_diri(self):\n",
        "    super().perkenalkan_diri() #Panggil versi Person\n",
        "    print(f\"Saya adalah mahasiswa dengan ID {self.student_id}, jurusan {self.jurusan}.\")\n",
        "\n",
        "#---Kode Utama---\n",
        "if __name__== \"__main__\":\n",
        "    #Membuat objek Person\n",
        "    dosen = Person(\"Pak Anton\", 45)\n",
        "    print(\"-\" * 20)\n",
        "    dosen.perkenalkan_diri()\n",
        "    print(\"\\n\" + \"=\" *30 + \"\\n\")\n",
        "\n",
        "    #Membuat objek Student\n",
        "    mahasiswa = Student(\"Dewi\", 20, \"MHS001\", \"Teknik Komputer\")\n",
        "    print(\"-\" * 20)\n",
        "    mahasiswa.perkenalkan_diri() #Panggil versi override di Student\n",
        "    print(\"-\" * 20)\n",
        "    mahasiswa.info_akademik() #Panggil metode khusus Student\n",
        "\n",
        "    #Cek atribut yang diwarisi\n",
        "    print(f\"\\nUsia mahasiswa {mahasiswa.nama}: {mahasiswa.usia}\") #usia diwarisi dari Person\n",
        "\n"
      ],
      "metadata": {
        "id": "tOBuxWKfpZ5c",
        "outputId": "9293623d-e9ed-4fc4-b772-d0f6b02d9dff",
        "colab": {
          "base_uri": "https://localhost:8080/"
        }
      },
      "execution_count": 10,
      "outputs": [
        {
          "output_type": "stream",
          "name": "stdout",
          "text": [
            "(Memanggil _init___Person untuk'Pak Anton')\n",
            "--------------------\n",
            "Halo, nama saya Pak Anton, usia saya 45 tahun.\n",
            "\n",
            "==============================\n",
            "\n",
            "(Memanggil _init___Student untuk 'Dewi')\n",
            "(Memanggil _init___Person untuk'Dewi')\n",
            "(inisialisasi atribut Student selesai untuk 'Dewi')\n",
            "--------------------\n",
            "Halo, nama saya Dewi, usia saya 20 tahun.\n",
            "Saya adalah mahasiswa dengan ID MHS001, jurusan Teknik Komputer.\n",
            "--------------------\n",
            "ID Mahasiswa: MHS001\n",
            "Jurusan: Teknik Komputer\n",
            "\n",
            "Usia mahasiswa Dewi: 20\n"
          ]
        }
      ]
    },
    {
      "cell_type": "markdown",
      "source": [
        "##Praktikum 03: Method Overriding dan super()"
      ],
      "metadata": {
        "id": "uI1C6fpnxkk-"
      }
    },
    {
      "cell_type": "code",
      "source": [
        "#Kelas Induk\n",
        "class Hewan:\n",
        "  def __init__(self, nama):\n",
        "    self.nama = nama\n",
        "\n",
        "  def bersuara(self):\n",
        "    print(f\"{self.nama} mengeluarkan suara generik\")\n",
        "\n",
        "  def tampilkan_info(self):\n",
        "    print(f\"Ini adalah hewan bernama {self.nama}\")\n",
        "\n",
        "#Kelas Anak\n",
        "class Kucing(Hewan):\n",
        "  def __init__(self, nama, ras):\n",
        "    super().__init__(nama) #Panggil init induk\n",
        "    self.ras = ras\n",
        "\n",
        "  #Method Overriding untuk bersuara\n",
        "  def bersuara(self):\n",
        "    print(f\"{self.nama} (Kucing) mengeong: Meow!\")\n",
        "\n",
        "  #Method Overriding untuk tampilkan_info, memanggil versi induk\n",
        "  def tampilkan_info(self):\n",
        "    super().tampilkan_info() #Panggil implementasi dari Hewan\n",
        "    print(f\"Ini adalah kucing ras {self.ras}.\") #Tambahkan info spesifik\n",
        "\n",
        "#---Kode Utama---\n",
        "if __name__==\"__main__\":\n",
        "  hewan_umum = Hewan(\"Mahkluk\")\n",
        "  kucing_persia = Kucing(\"Puspus\", \"Persia\")\n",
        "\n",
        "  print(\"Info Hewan Umum:\")\n",
        "  hewan_umum.tampilkan_info()\n",
        "  hewan_umum.bersuara()\n",
        "  print(\"-\" * 20)\n",
        "\n",
        "  print(\"Info Kucing Persia:\")\n",
        "  kucing_persia.tampilkan_info() #Akan memanggil versi Kucing\n",
        "  kucing_persia.bersuara() #Akan memanggil versi Kucing"
      ],
      "metadata": {
        "id": "10cvUj3PutyC",
        "outputId": "277ac0c9-1622-463e-f26a-dcddfda59889",
        "colab": {
          "base_uri": "https://localhost:8080/"
        }
      },
      "execution_count": 13,
      "outputs": [
        {
          "output_type": "stream",
          "name": "stdout",
          "text": [
            "Info Hewan Umum:\n",
            "Ini adalah hewan bernama Mahkluk\n",
            "Mahkluk mengeluarkan suara generik\n",
            "--------------------\n",
            "Info Kucing Persia:\n",
            "Ini adalah hewan bernama Puspus\n",
            "Ini adalah kucing ras Persia.\n",
            "Puspus (Kucing) mengeong: Meow!\n"
          ]
        }
      ]
    },
    {
      "cell_type": "code",
      "source": [],
      "metadata": {
        "id": "PeVTVJYc0Z7R"
      },
      "execution_count": null,
      "outputs": []
    }
  ]
}