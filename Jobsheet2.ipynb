{
  "nbformat": 4,
  "nbformat_minor": 0,
  "metadata": {
    "colab": {
      "provenance": [],
      "authorship_tag": "ABX9TyOmcxbYT4Q/CiouIQpVuWNw",
      "include_colab_link": true
    },
    "kernelspec": {
      "name": "python3",
      "display_name": "Python 3"
    },
    "language_info": {
      "name": "python"
    }
  },
  "cells": [
    {
      "cell_type": "markdown",
      "metadata": {
        "id": "view-in-github",
        "colab_type": "text"
      },
      "source": [
        "<a href=\"https://colab.research.google.com/github/Agtna/2025_PBO_TI-1B/blob/main/Jobsheet2.ipynb\" target=\"_parent\"><img src=\"https://colab.research.google.com/assets/colab-badge.svg\" alt=\"Open In Colab\"/></a>"
      ]
    },
    {
      "cell_type": "markdown",
      "source": [
        "Praktikum 1 : Membuat dan Menggunakan Fungsi"
      ],
      "metadata": {
        "id": "FXts2KV8siGo"
      }
    },
    {
      "cell_type": "code",
      "execution_count": null,
      "metadata": {
        "colab": {
          "base_uri": "https://localhost:8080/"
        },
        "id": "_GavON9VrxrD",
        "outputId": "e420b668-3495-45c2-b28a-9749d3ffe431"
      },
      "outputs": [
        {
          "output_type": "stream",
          "name": "stdout",
          "text": [
            "Ini adalah contoh fungsi built-in\n",
            "Panjang kata 'Pemrograman' adalah: 11\n",
            "Nilai maksimum dalam daftar [10, 5, 30, 40, 25] adalah: 40\n",
            "Kuadrat dari 5 adalah: 25\n",
            "Luas persegi panjang: 50\n",
            "Nama: Budi, Umur: 22, IPK: 3.8\n",
            "Halo, Andi! Selamat datang di dunia Python.\n",
            "Keliling persegi dengan sisi 5 adalah: 20\n"
          ]
        }
      ],
      "source": [
        "# Fungsi Built-in\n",
        "\n",
        "# Fungsi print() adalah contoh fungsi built-in untuk mencetak output\n",
        "print(\"Ini adalah contoh fungsi built-in\")\n",
        "\n",
        "# Fungsi len() adalah contoh fungsi built-in untuk menghitung panjang suatu objek\n",
        "kata = \"Pemrograman\"\n",
        "panjang_kata = len(kata)\n",
        "print(f\"Panjang kata '{kata}' adalah: {panjang_kata}\")\n",
        "\n",
        "# Fungsi max() adalah contoh fungsi built-in untuk mencari nilai maksimum dari sebuah daftar\n",
        "angka = [10, 5, 30, 40, 25]\n",
        "nilai_max = max(angka)\n",
        "print(f\"Nilai maksimum dalam daftar {angka} adalah: {nilai_max}\")\n",
        "\n",
        "# Fungsi User-Defined\n",
        "\n",
        "# Fungsi dengan satu parameter (Menerima satu nilai input)\n",
        "def cetak_kuadrat(angka):\n",
        "    print(f\"Kuadrat dari {angka} adalah: {angka ** 2}\")\n",
        "\n",
        "# Fungsi dengan beberapa parameter (Menerima lebih dari satu nilai input)\n",
        "def hitung_luas_persegi_panjang(panjang, lebar):\n",
        "    return panjang * lebar\n",
        "\n",
        "# Fungsi dengan beberapa tipe parameter (Menerima berbagai jenis data)\n",
        "def info_mahasiswa(nama, umur, ipk):\n",
        "    print(f\"Nama: {nama}, Umur: {umur}, IPK: {ipk}\")\n",
        "\n",
        "# Fungsi tanpa return value (Non-return value)\n",
        "def sapa_pengguna(nama):\n",
        "    print(f\"Halo, {nama}! Selamat datang di dunia Python.\")\n",
        "\n",
        "# Fungsi dengan return value\n",
        "def hitung_keliling_persegi(sisi):\n",
        "    return 4 * sisi\n",
        "\n",
        "# Pemanggilan fungsi dengan satu parameter\n",
        "cetak_kuadrat(5)\n",
        "\n",
        "# Pemanggilan fungsi dengan beberapa parameter\n",
        "luas = hitung_luas_persegi_panjang(10, 5)\n",
        "print(f\"Luas persegi panjang: {luas}\")\n",
        "\n",
        "# Pemanggilan fungsi dengan beberapa tipe parameter\n",
        "info_mahasiswa(\"Budi\", 22, 3.8)\n",
        "\n",
        "# Pemanggilan fungsi tanpa return value\n",
        "sapa_pengguna(\"Andi\")\n",
        "\n",
        "# Pemanggilan fungsi dengan return value\n",
        "keliling = hitung_keliling_persegi(5)\n",
        "print(f\"Keliling persegi dengan sisi 5 adalah: {keliling}\")\n"
      ]
    },
    {
      "cell_type": "markdown",
      "source": [
        "Praktikum 2 : Modularisasi Kode dengan Fungsi"
      ],
      "metadata": {
        "id": "iCX6YUCIzls7"
      }
    },
    {
      "cell_type": "code",
      "source": [
        "#File utama main.py yang mengimpor modul geometri.py\n",
        "\n",
        "#Mengimpor modul geometri\n",
        "import geometri\n",
        "\n",
        "def main():\n",
        "  #Menggunakan fungsi dari modul meong\n",
        "  luas_persegi = geometri.hitung_luas_persegi(5)\n",
        "  print(f\"Luas persegi dengan sisi 5 adalah: {luas_persegi}\")\n"
      ],
      "metadata": {
        "id": "gtctWI6jxr6u"
      },
      "execution_count": null,
      "outputs": []
    },
    {
      "cell_type": "markdown",
      "source": [
        "Praktikum 3 : Membuat Kelas Sederhana"
      ],
      "metadata": {
        "id": "sVe8T68o1wd_"
      }
    },
    {
      "cell_type": "code",
      "source": [
        "#Kelas Buku untuk mempresentasikan buku di perpustakaan\n",
        "class Buku:\n",
        "  def __init__(self, judul, pengarang, tahun_terbit):\n",
        "     self.judul = judul\n",
        "     self.pengarang = pengarang\n",
        "     self.tahun_terbit = tahun_terbit\n",
        "     self.status = \"Tersedia\" #Status buku, default adalah Tersedia\n",
        "\n",
        "  def tampilan_info(self):\n",
        "    print(f\"Judul: {self.judul}\")\n",
        "    print(f\"Pengarang: {self.pengarang}\")\n",
        "    print(f\"Tahun Terbit: {self.tahun_terbit}\")\n",
        "    print(f\"Status: {self.status}\")\n",
        "\n",
        "  def pinjam(self):\n",
        "    if self.status == \"Tersedia\":\n",
        "      self.status = \"Dipinjam\"\n",
        "      print(f\"Buku '{self.judul}' telah dipinjam.\")\n",
        "    else:\n",
        "      print(f\"Buku '{self.judul}' tidak sedang dipinjam.\")\n",
        "\n",
        "#Membuat objek dari kelas Buku\n",
        "buku1 = Buku(\"Pemrograman Python\", \"John Doe\", 2021)\n",
        "buku2 = Buku(\"Data Science untuk pemula\", \"Jane Smith\", 2020)\n",
        "\n",
        "#Menggunakan metode objek Buku\n",
        "buku1.tampilan_info()\n",
        "buku2.pinjam()\n",
        "\n",
        "#Mengubah status buku dan menampilkan informasi\n",
        "buku2.kembalikan()\n",
        "buku1.pinjam()\n",
        "buku1.tampilan_info()\n"
      ],
      "metadata": {
        "id": "Pr57_VFR12FV"
      },
      "execution_count": null,
      "outputs": []
    }
  ]
}