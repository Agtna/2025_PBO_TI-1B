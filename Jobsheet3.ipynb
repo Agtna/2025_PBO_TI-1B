{
  "nbformat": 4,
  "nbformat_minor": 0,
  "metadata": {
    "colab": {
      "provenance": [],
      "authorship_tag": "ABX9TyMGOY/LzFAk4skhNxJQAAAv",
      "include_colab_link": true
    },
    "kernelspec": {
      "name": "python3",
      "display_name": "Python 3"
    },
    "language_info": {
      "name": "python"
    }
  },
  "cells": [
    {
      "cell_type": "markdown",
      "metadata": {
        "id": "view-in-github",
        "colab_type": "text"
      },
      "source": [
        "<a href=\"https://colab.research.google.com/github/Agtna/2025_PBO_TI-1B/blob/main/Jobsheet3.ipynb\" target=\"_parent\"><img src=\"https://colab.research.google.com/assets/colab-badge.svg\" alt=\"Open In Colab\"/></a>"
      ]
    },
    {
      "cell_type": "markdown",
      "source": [
        "# JOBSHEET 3 : KONSTRUKTOR, DESTRUKTOR, DAN ENKAPSULASI"
      ],
      "metadata": {
        "id": "S1L4IAFIoZ2L"
      }
    },
    {
      "cell_type": "markdown",
      "source": [
        "##Praktikum 01: Enkapsulasi pada kelas Bank Account"
      ],
      "metadata": {
        "id": "Pe9HKluqoe6o"
      }
    },
    {
      "cell_type": "code",
      "source": [
        "class BankAccount:\n",
        "  def   init  (self, owner, balance):\n",
        "    #Atribut dengan double underscore (__) dianggap privat di python\n",
        "\n",
        "    self.__owner = owner\n",
        "    self.__balance = balance\n",
        "\n",
        "  def deposit(self, amount):\n",
        "    \"\"\"Method untuk menambahkan saldo.\"\"\"\n",
        "    if amount > 0:\n",
        "      self.__balance += amount\n",
        "      print(f\"{amount} telah ditambahkan ke akun {self.__owner}.\")\n",
        "    else:\n",
        "      print(\"Jumlah deposit harus lebih dari 0.\")\n",
        "\n",
        "  def withdraw(self, amount):\n",
        "    \"\"\"Method untuk menarik saldo.\"\"\"\n",
        "    if amount <= self.__balance:\n",
        "      self.__balance -= amount\n",
        "      print(f\"{amount} telah ditarik ke akun {self.__owner}.\")\n",
        "    else:\n",
        "      print(\"Saldo tidak mencukupi\")\n",
        "\n",
        "  def get_balance(self):\n",
        "    \"\"\"Method untuk mendapatkan saldo.\"\"\"\n",
        "    return self.__balance\n",
        "\n",
        "  def get_owner(self):\n",
        "    \"\"\"Method untuk mendapatkan informasi saldo terkini.\"\"\"\n",
        "    return self.__balance\n",
        "\n",
        "#Contoh penggunaan\n",
        "if __name__ == \" __main__ \":\n",
        "  # Membuat objek BankAccount dengan owner = \"Alice\" dan balance awal\n",
        "\n",
        "  alice_account = BankAccount(owner=\"Alice\", balance=1000)\n",
        "\n",
        "  #Deposit uang\n",
        "  alice_account.deposit(500)  #Berhasil\n",
        "  alice_account.deposit(-100) #Gagal (validasi)\n",
        "\n",
        "  #Withdraw uang\n",
        "  alice_account.withdraw(300)   #Berhasil\n",
        "  alice_account.withdraw(2000)  #Gagal (saldo tidak cukup)\n",
        "\n",
        "  #Mendapatkan saldo\n",
        "  current_balance = alice_account.get_balance()\n",
        "  print(f\"Saldo terkahir di akun {alice_account. BankAccount__owner}: {current_balance}\")\n",
        "\n",
        "  #Mencoba mengakses atribut 'privat' langsung (tidak direkomendasikan)\n",
        "  # alice_account.  balance # Akan error\n",
        "\t# Karena Python “mangling” nama atribut balance menjadi _BankAccount  balance\n",
        "  # Ini adalah salah satu mekanisme enkapsulasi sederhana di Python.\n"
      ],
      "metadata": {
        "id": "wrL9JhBapHC1"
      },
      "execution_count": 10,
      "outputs": []
    },
    {
      "cell_type": "markdown",
      "source": [
        "##Praktikum 02: Enkapsulasi pada kelas Employee"
      ],
      "metadata": {
        "id": "nselEGV9om4i"
      }
    },
    {
      "cell_type": "markdown",
      "source": [
        "##Praktikum 03: Konstruktor dan Destruktor Sederhana"
      ],
      "metadata": {
        "id": "ALSS9XXnouDx"
      }
    },
    {
      "cell_type": "markdown",
      "source": [
        "##Praktikum 04: Konstruktor dan Destruktor program FileLogger"
      ],
      "metadata": {
        "id": "-NIIJmOvo2gY"
      }
    },
    {
      "cell_type": "markdown",
      "source": [
        "##Praktikum 05: Properti \"self\" pada kelas"
      ],
      "metadata": {
        "id": "YTskPfz4o9L6"
      }
    },
    {
      "cell_type": "markdown",
      "source": [
        "##Praktikum 06: Menggunakan getter, setter, dan dekorator @property untuk mengelola akses atribut"
      ],
      "metadata": {
        "id": "oFvW6ViRpCqb"
      }
    },
    {
      "cell_type": "code",
      "execution_count": null,
      "metadata": {
        "id": "JA1naYXFoXZA"
      },
      "outputs": [],
      "source": []
    }
  ]
}